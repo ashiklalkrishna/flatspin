{
 "cells": [
  {
   "cell_type": "code",
   "execution_count": null,
   "metadata": {},
   "outputs": [],
   "source": [
    "fig, ax = plt.subplots()\n",
    "\n",
    "def animate_spin(i):\n",
    "    H = norm(h_ext[(i+1) * timesteps - 1])\n",
    "    ax.set_title(f\"H={H:.3f} [T]\")\n",
    "    model.set_spin(spins[i])\n",
    "    model.plot_vertex_mag(ax=ax, replace=True)\n",
    "        \n",
    "anim = FuncAnimation(fig, animate_spin, frames=len(spins), interval=200, blit=False)\n",
    "plt.close() # Only show the animation\n",
    "HTML(anim.to_jshtml())"
   ]
  }
 ],
 "metadata": {
  "kernelspec": {
   "display_name": "Python 3",
   "language": "python",
   "name": "python3"
  },
  "language_info": {
   "name": "python",
   "version": "3.11.6"
  }
 },
 "nbformat": 4,
 "nbformat_minor": 2
}
